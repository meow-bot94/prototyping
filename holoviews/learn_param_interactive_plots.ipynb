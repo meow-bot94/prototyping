{
 "cells": [
  {
   "cell_type": "code",
   "execution_count": null,
   "metadata": {
    "collapsed": true
   },
   "outputs": [],
   "source": [
    "import pandas as pd\n",
    "import numpy as np\n",
    "import param\n",
    "import panel\n",
    "import plotly.express as px\n",
    "panel.extension('plotly')"
   ]
  },
  {
   "cell_type": "code",
   "execution_count": null,
   "outputs": [],
   "source": [
    "class GenericModel:\n",
    "    def predict(self, value):\n",
    "        return np.cos(np.array(range(150))/value)\n",
    "\n",
    "\n",
    "generic_model = GenericModel()\n",
    "prediction = generic_model.predict(5)"
   ],
   "metadata": {
    "collapsed": false,
    "pycharm": {
     "name": "#%%\n"
    }
   }
  },
  {
   "cell_type": "code",
   "execution_count": null,
   "outputs": [],
   "source": [
    "class InteractiveDashboard(param.Parameterized):\n",
    "    denominator_param = param.Number(default=10.0, bounds=(1.0, 50.0), step=1.0, label='test_label')\n",
    "    useless_parameter = param.String(default='u dont see me', precedence=-1)\n",
    "    indirect_param = param.Integer(default=150)\n",
    "\n",
    "    def plot_data(self):\n",
    "        if self.denominator_param > 40:\n",
    "            raise ValueError('lol')\n",
    "        y_values = generic_model.predict(self.denominator_param)\n",
    "        x_values = np.array(range(0, 150))\n",
    "        data_df = pd.DataFrame({\n",
    "            'x_values': x_values,\n",
    "            'y_values': y_values,\n",
    "        })\n",
    "        fig = px.scatter(data_df, x='x_values', y='y_values')\n",
    "        return fig\n",
    "\n",
    "interactive_dashboard = InteractiveDashboard()\n",
    "dashboard = panel.Column(\n",
    "    'test_title',\n",
    "    interactive_dashboard.param,\n",
    "    panel.Param(interactive_dashboard.param, name='test_rename_param'),\n",
    "    interactive_dashboard.plot_data,\n",
    ")\n",
    "panel.Param.display_threshold = 0  # If precedence is lower than this, will not show\n",
    "dashboard.embed(max_opts=50)"
   ],
   "metadata": {
    "collapsed": false,
    "pycharm": {
     "name": "#%%\n"
    }
   }
  },
  {
   "cell_type": "code",
   "execution_count": null,
   "outputs": [],
   "source": [
    "class GoogleMapViewer(param.Parameterized):\n",
    "\n",
    "    continent = param.ObjectSelector(default='Asia', objects=['Africa', 'Asia', 'Europe'])\n",
    "    country = param.ObjectSelector(default='China', objects=['China', 'Thailand', 'Japan'])\n",
    "\n",
    "    _countries = {'Africa': ['Ghana', 'Togo', 'South Africa', 'Tanzania'],\n",
    "                  'Asia'  : ['China', 'Thailand', 'Japan'],\n",
    "                  'Europe': ['Austria', 'Bulgaria', 'Greece', 'Portugal', 'Switzerland']}\n",
    "\n",
    "    @param.depends('continent', watch=True)\n",
    "    def _update_countries(self):\n",
    "        countries = self._countries[self.continent]\n",
    "        self.param['country'].objects = countries\n",
    "        # self.country.objects = countries\n",
    "        self.country = countries[0]\n",
    "\n",
    "    # @param.depends('country')\n",
    "    def view(self):\n",
    "        iframe = \"\"\"\n",
    "        <iframe width=\"800\" height=\"400\" src=\"https://maps.google.com/maps?q={country}&z=6&output=embed\"\n",
    "        frameborder=\"0\" scrolling=\"no\" marginheight=\"0\" marginwidth=\"0\"></iframe>\n",
    "        \"\"\".format(country=self.country)\n",
    "        # return panel.pane.HTML(iframe, height=400)\n",
    "        return panel.pane.Plotly('test')\n",
    "\n",
    "viewer = GoogleMapViewer(name='Google Map Viewer')\n",
    "map_viewer = panel.Row(\n",
    "    viewer.param,\n",
    "    viewer.view,\n",
    ")\n",
    "map_viewer.embed(max_opts=20)"
   ],
   "metadata": {
    "collapsed": false,
    "pycharm": {
     "name": "#%%\n"
    }
   }
  },
  {
   "cell_type": "code",
   "execution_count": null,
   "outputs": [],
   "source": [],
   "metadata": {
    "collapsed": false,
    "pycharm": {
     "name": "#%%\n"
    }
   }
  }
 ],
 "metadata": {
  "kernelspec": {
   "name": "prototype_py",
   "language": "python",
   "display_name": "Python (prototype_py)"
  },
  "language_info": {
   "codemirror_mode": {
    "name": "ipython",
    "version": 2
   },
   "file_extension": ".py",
   "mimetype": "text/x-python",
   "name": "python",
   "nbconvert_exporter": "python",
   "pygments_lexer": "ipython2",
   "version": "2.7.6"
  }
 },
 "nbformat": 4,
 "nbformat_minor": 0
}